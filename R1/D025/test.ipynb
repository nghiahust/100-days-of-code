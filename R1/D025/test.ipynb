{
 "cells": [
  {
   "cell_type": "code",
   "execution_count": 1,
   "metadata": {
    "collapsed": true
   },
   "outputs": [
    {
     "name": "stdout",
     "output_type": "stream",
     "text": [
      "             state    x    y\n",
      "0          Alabama  139  -77\n",
      "1           Alaska -204 -170\n",
      "2          Arizona -203  -40\n",
      "3         Arkansas   57  -53\n",
      "4       California -297   13\n",
      "5         Colorado -112   20\n",
      "6      Connecticut  297   96\n",
      "7         Delaware  275   42\n",
      "8          Florida  220 -145\n",
      "9          Georgia  182  -75\n",
      "10          Hawaii -317 -143\n",
      "11           Idaho -216  122\n",
      "12        Illinois   95   37\n",
      "13         Indiana  133   39\n",
      "14            Iowa   38   65\n",
      "15          Kansas  -17    5\n",
      "16        Kentucky  149    1\n",
      "17       Louisiana   59 -114\n",
      "18           Maine  319  164\n",
      "19        Maryland  288   27\n",
      "20   Massachusetts  312  112\n",
      "21        Michigan  148  101\n",
      "22       Minnesota   23  135\n",
      "23     Mississippi   94  -78\n",
      "24        Missouri   49    6\n",
      "25         Montana -141  150\n",
      "26        Nebraska  -61   66\n",
      "27          Nevada -257   56\n",
      "28   New Hampshire  302  127\n",
      "29      New Jersey  282   65\n",
      "30      New Mexico -128  -43\n",
      "31        New York  236  104\n",
      "32  North Carolina  239  -22\n",
      "33    North Dakota  -44  158\n",
      "34            Ohio  176   52\n",
      "35        Oklahoma   -8  -41\n",
      "36          Oregon -278  138\n",
      "37    Pennsylvania  238   72\n",
      "38    Rhode Island  318   94\n",
      "39  South Carolina  218  -51\n",
      "40    South Dakota  -44  109\n",
      "41       Tennessee  131  -34\n",
      "42           Texas  -38 -106\n",
      "43            Utah -189   34\n",
      "44         Vermont  282  154\n",
      "45        Virginia  234   12\n",
      "46      Washington -257  193\n",
      "47   West Virginia  200   20\n",
      "48       Wisconsin   83  113\n",
      "49         Wyoming -134   90\n"
     ]
    }
   ],
   "source": [
    "import pandas\n",
    "df = pandas.read_csv(\"50_states.csv\")\n",
    "print(df)"
   ]
  },
  {
   "cell_type": "code",
   "execution_count": 10,
   "outputs": [],
   "source": [
    "answer = \"Idaho\""
   ],
   "metadata": {
    "collapsed": false,
    "pycharm": {
     "name": "#%%\n"
    }
   }
  },
  {
   "cell_type": "code",
   "execution_count": 15,
   "outputs": [
    {
     "name": "stdout",
     "output_type": "stream",
     "text": [
      "Idaho\n"
     ]
    }
   ],
   "source": [
    "if answer in df['state'].to_list():\n",
    "    print(answer)"
   ],
   "metadata": {
    "collapsed": false,
    "pycharm": {
     "name": "#%%\n"
    }
   }
  },
  {
   "cell_type": "code",
   "execution_count": 12,
   "outputs": [],
   "source": [
    "if answer in df['state']:\n",
    "    print(df[df['state'] == answer])"
   ],
   "metadata": {
    "collapsed": false,
    "pycharm": {
     "name": "#%%\n"
    }
   }
  },
  {
   "cell_type": "code",
   "execution_count": 17,
   "outputs": [
    {
     "data": {
      "text/plain": "    state    x    y\n11  Idaho -216  122",
      "text/html": "<div>\n<style scoped>\n    .dataframe tbody tr th:only-of-type {\n        vertical-align: middle;\n    }\n\n    .dataframe tbody tr th {\n        vertical-align: top;\n    }\n\n    .dataframe thead th {\n        text-align: right;\n    }\n</style>\n<table border=\"1\" class=\"dataframe\">\n  <thead>\n    <tr style=\"text-align: right;\">\n      <th></th>\n      <th>state</th>\n      <th>x</th>\n      <th>y</th>\n    </tr>\n  </thead>\n  <tbody>\n    <tr>\n      <th>11</th>\n      <td>Idaho</td>\n      <td>-216</td>\n      <td>122</td>\n    </tr>\n  </tbody>\n</table>\n</div>"
     },
     "execution_count": 17,
     "metadata": {},
     "output_type": "execute_result"
    }
   ],
   "source": [
    "df[df['state'] == answer]"
   ],
   "metadata": {
    "collapsed": false,
    "pycharm": {
     "name": "#%%\n"
    }
   }
  },
  {
   "cell_type": "code",
   "execution_count": null,
   "outputs": [],
   "source": [],
   "metadata": {
    "collapsed": false,
    "pycharm": {
     "name": "#%%\n"
    }
   }
  }
 ],
 "metadata": {
  "kernelspec": {
   "display_name": "Python 3",
   "language": "python",
   "name": "python3"
  },
  "language_info": {
   "codemirror_mode": {
    "name": "ipython",
    "version": 2
   },
   "file_extension": ".py",
   "mimetype": "text/x-python",
   "name": "python",
   "nbconvert_exporter": "python",
   "pygments_lexer": "ipython2",
   "version": "2.7.6"
  }
 },
 "nbformat": 4,
 "nbformat_minor": 0
}